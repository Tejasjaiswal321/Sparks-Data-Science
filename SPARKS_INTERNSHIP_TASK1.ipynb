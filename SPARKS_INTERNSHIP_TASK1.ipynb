{
  "cells": [
    {
      "attachments": {},
      "cell_type": "markdown",
      "metadata": {},
      "source": [
        "# Supervised ML Model\n",
        "##### Predict the result of student based on the no. of study hours"
      ]
    },
    {
      "attachments": {},
      "cell_type": "markdown",
      "metadata": {
        "id": "u924-_oFooPx"
      },
      "source": [
        "**IMPORT NECESSARY LIBRARIES**"
      ]
    },
    {
      "attachments": {},
      "cell_type": "markdown",
      "metadata": {
        "id": "gneSAC2JwFj1"
      },
      "source": [
        "AUTHOR: Tejas Jaiswal, IIT ISM Dhanbad (CSE)"
      ]
    },
    {
      "cell_type": "code",
      "execution_count": 1,
      "metadata": {
        "id": "LoSnVE3Ie7hA"
      },
      "outputs": [],
      "source": [
        "import numpy as np\n",
        "import pandas as pd\n",
        "from sklearn.model_selection import train_test_split\n",
        "import matplotlib.pyplot as plt\n",
        "from sklearn.linear_model import LinearRegression\n",
        "from sklearn import metrics"
      ]
    },
    {
      "attachments": {},
      "cell_type": "markdown",
      "metadata": {
        "id": "d5n8Z-RGpJPh"
      },
      "source": [
        "**READING THE DATA**"
      ]
    },
    {
      "cell_type": "code",
      "execution_count": 2,
      "metadata": {
        "colab": {
          "base_uri": "https://localhost:8080/",
          "height": 799
        },
        "id": "3-MezWFlfA84",
        "outputId": "adf2e798-ed0d-4961-cb34-06e82a23a028"
      },
      "outputs": [
        {
          "data": {
            "text/html": [
              "<div>\n",
              "<style scoped>\n",
              "    .dataframe tbody tr th:only-of-type {\n",
              "        vertical-align: middle;\n",
              "    }\n",
              "\n",
              "    .dataframe tbody tr th {\n",
              "        vertical-align: top;\n",
              "    }\n",
              "\n",
              "    .dataframe thead th {\n",
              "        text-align: right;\n",
              "    }\n",
              "</style>\n",
              "<table border=\"1\" class=\"dataframe\">\n",
              "  <thead>\n",
              "    <tr style=\"text-align: right;\">\n",
              "      <th></th>\n",
              "      <th>Hours</th>\n",
              "      <th>Scores</th>\n",
              "    </tr>\n",
              "  </thead>\n",
              "  <tbody>\n",
              "    <tr>\n",
              "      <th>0</th>\n",
              "      <td>2.5</td>\n",
              "      <td>21</td>\n",
              "    </tr>\n",
              "    <tr>\n",
              "      <th>1</th>\n",
              "      <td>5.1</td>\n",
              "      <td>47</td>\n",
              "    </tr>\n",
              "    <tr>\n",
              "      <th>2</th>\n",
              "      <td>3.2</td>\n",
              "      <td>27</td>\n",
              "    </tr>\n",
              "    <tr>\n",
              "      <th>3</th>\n",
              "      <td>8.5</td>\n",
              "      <td>75</td>\n",
              "    </tr>\n",
              "    <tr>\n",
              "      <th>4</th>\n",
              "      <td>3.5</td>\n",
              "      <td>30</td>\n",
              "    </tr>\n",
              "    <tr>\n",
              "      <th>5</th>\n",
              "      <td>1.5</td>\n",
              "      <td>20</td>\n",
              "    </tr>\n",
              "    <tr>\n",
              "      <th>6</th>\n",
              "      <td>9.2</td>\n",
              "      <td>88</td>\n",
              "    </tr>\n",
              "    <tr>\n",
              "      <th>7</th>\n",
              "      <td>5.5</td>\n",
              "      <td>60</td>\n",
              "    </tr>\n",
              "    <tr>\n",
              "      <th>8</th>\n",
              "      <td>8.3</td>\n",
              "      <td>81</td>\n",
              "    </tr>\n",
              "    <tr>\n",
              "      <th>9</th>\n",
              "      <td>2.7</td>\n",
              "      <td>25</td>\n",
              "    </tr>\n",
              "    <tr>\n",
              "      <th>10</th>\n",
              "      <td>7.7</td>\n",
              "      <td>85</td>\n",
              "    </tr>\n",
              "    <tr>\n",
              "      <th>11</th>\n",
              "      <td>5.9</td>\n",
              "      <td>62</td>\n",
              "    </tr>\n",
              "    <tr>\n",
              "      <th>12</th>\n",
              "      <td>4.5</td>\n",
              "      <td>41</td>\n",
              "    </tr>\n",
              "    <tr>\n",
              "      <th>13</th>\n",
              "      <td>3.3</td>\n",
              "      <td>42</td>\n",
              "    </tr>\n",
              "    <tr>\n",
              "      <th>14</th>\n",
              "      <td>1.1</td>\n",
              "      <td>17</td>\n",
              "    </tr>\n",
              "    <tr>\n",
              "      <th>15</th>\n",
              "      <td>8.9</td>\n",
              "      <td>95</td>\n",
              "    </tr>\n",
              "    <tr>\n",
              "      <th>16</th>\n",
              "      <td>2.5</td>\n",
              "      <td>30</td>\n",
              "    </tr>\n",
              "    <tr>\n",
              "      <th>17</th>\n",
              "      <td>1.9</td>\n",
              "      <td>24</td>\n",
              "    </tr>\n",
              "    <tr>\n",
              "      <th>18</th>\n",
              "      <td>6.1</td>\n",
              "      <td>67</td>\n",
              "    </tr>\n",
              "    <tr>\n",
              "      <th>19</th>\n",
              "      <td>7.4</td>\n",
              "      <td>69</td>\n",
              "    </tr>\n",
              "    <tr>\n",
              "      <th>20</th>\n",
              "      <td>2.7</td>\n",
              "      <td>30</td>\n",
              "    </tr>\n",
              "    <tr>\n",
              "      <th>21</th>\n",
              "      <td>4.8</td>\n",
              "      <td>54</td>\n",
              "    </tr>\n",
              "    <tr>\n",
              "      <th>22</th>\n",
              "      <td>3.8</td>\n",
              "      <td>35</td>\n",
              "    </tr>\n",
              "    <tr>\n",
              "      <th>23</th>\n",
              "      <td>6.9</td>\n",
              "      <td>76</td>\n",
              "    </tr>\n",
              "    <tr>\n",
              "      <th>24</th>\n",
              "      <td>7.8</td>\n",
              "      <td>86</td>\n",
              "    </tr>\n",
              "  </tbody>\n",
              "</table>\n",
              "</div>"
            ],
            "text/plain": [
              "    Hours  Scores\n",
              "0     2.5      21\n",
              "1     5.1      47\n",
              "2     3.2      27\n",
              "3     8.5      75\n",
              "4     3.5      30\n",
              "5     1.5      20\n",
              "6     9.2      88\n",
              "7     5.5      60\n",
              "8     8.3      81\n",
              "9     2.7      25\n",
              "10    7.7      85\n",
              "11    5.9      62\n",
              "12    4.5      41\n",
              "13    3.3      42\n",
              "14    1.1      17\n",
              "15    8.9      95\n",
              "16    2.5      30\n",
              "17    1.9      24\n",
              "18    6.1      67\n",
              "19    7.4      69\n",
              "20    2.7      30\n",
              "21    4.8      54\n",
              "22    3.8      35\n",
              "23    6.9      76\n",
              "24    7.8      86"
            ]
          },
          "execution_count": 2,
          "metadata": {},
          "output_type": "execute_result"
        }
      ],
      "source": [
        "#fetch data from remote location using read_csv\n",
        "data=pd.read_csv('https://raw.githubusercontent.com/AdiPersonalWorks/Random/master/student_scores%20-%20student_scores.csv')\n",
        "data"
      ]
    },
    {
      "attachments": {},
      "cell_type": "markdown",
      "metadata": {
        "id": "Ux6OdCjyp6jc"
      },
      "source": [
        "**EXTRACTING THE REQUIRED IMFORMATION FROM THE DATA**\n",
        "\n",
        "Given Dataset : HOURS vs SCORES <br>\n",
        "Required Data format : Separate arrays for feature values and the respective outputs. "
      ]
    },
    {
      "cell_type": "code",
      "execution_count": 3,
      "metadata": {
        "colab": {
          "base_uri": "https://localhost:8080/"
        },
        "id": "-8tk8XoqfN1c",
        "outputId": "6aada552-3be0-435d-f07f-dbb656a7a993"
      },
      "outputs": [
        {
          "name": "stdout",
          "output_type": "stream",
          "text": [
            "(25, 1)\n",
            "(25,)\n",
            "(20, 1) (20,)\n",
            "(5, 1) (5,)\n"
          ]
        }
      ],
      "source": [
        "x=data[\"Hours\"]\n",
        "y=data[\"Scores\"]\n",
        "x=x.to_numpy() #CONVERTING THE SERIES OBJECT INTO A NUMPY ARRAY \n",
        "x=x.reshape((-1,1)) #RESHAPING THE NUMPY ARRAY TO BE OF THE FORM(N,1) INSTEAD OF THE FORM(N,)\n",
        "y=y.to_numpy() #CONVERTING THE SERIES OBJECT INTO A NUMPY ARRAY\n",
        "x_train,x_test,y_train,y_test=train_test_split(x,y,test_size=.2)\n",
        "print(x.shape)\n",
        "print(y.shape)\n",
        "print(x_train.shape,y_train.shape)\n",
        "print(x_test.shape,y_test.shape)\n"
      ]
    },
    {
      "attachments": {},
      "cell_type": "markdown",
      "metadata": {
        "id": "Eg8ASYAKr3on"
      },
      "source": [
        "**PLOTTING THE GIVEN DATASET**\n",
        "<br>\n",
        "\n",
        "\"A picture is worth more than a thousand words\""
      ]
    },
    {
      "cell_type": "code",
      "execution_count": 4,
      "metadata": {
        "colab": {
          "base_uri": "https://localhost:8080/",
          "height": 295
        },
        "id": "95yiEHmmlG1r",
        "outputId": "b3a52915-99ff-4982-d2aa-74413094d377"
      },
      "outputs": [
        {
          "data": {
            "image/png": "[encoded data removed]",
            "text/plain": [
              "<Figure size 640x480 with 1 Axes>"
            ]
          },
          "metadata": {},
          "output_type": "display_data"
        }
      ],
      "source": [
        "data.plot(x=\"Hours\",y=\"Scores\",style='.')\n",
        "plt.title(\"DATASET\")\n",
        "plt.ylabel(\"PERCENTAGE SCORES\")\n",
        "plt.xlabel(\"NUMBER OF HOURS\")\n",
        "plt.show()"
      ]
    },
    {
      "attachments": {},
      "cell_type": "markdown",
      "metadata": {
        "id": "J1wJMx7-sEFG"
      },
      "source": [
        "### THE MODEL\n",
        "\n",
        "Using the sklearn built-in LINEAR REGRESSION MODEL<br>\n",
        "(Linear Regression can also be implemented by using a brute-force in each step)"
      ]
    },
    {
      "cell_type": "code",
      "execution_count": 5,
      "metadata": {
        "colab": {
          "base_uri": "https://localhost:8080/"
        },
        "id": "Y8nnRY93gnvx",
        "outputId": "6670c877-e981-403d-b874-3e2fa11c3fc1"
      },
      "outputs": [
        {
          "data": {
            "text/plain": [
              "LinearRegression()"
            ]
          },
          "execution_count": 5,
          "metadata": {},
          "output_type": "execute_result"
        }
      ],
      "source": [
        "model=LinearRegression()\n",
        "model.fit(x_train,y_train) #FITING THE MODEL ONTO THE TRAINING DATASET"
      ]
    },
    {
      "attachments": {},
      "cell_type": "markdown",
      "metadata": {
        "id": "kh4c71-Uspqb"
      },
      "source": [
        "\n",
        "Since we have the Linear Regression Model trained on a single feature (i.e., No. of Hours) ,we will get only a single coefficient and a single intercept"
      ]
    },
    {
      "cell_type": "code",
      "execution_count": 6,
      "metadata": {
        "colab": {
          "base_uri": "https://localhost:8080/"
        },
        "id": "OhgufwY8id9D",
        "outputId": "1c7bb687-63a2-41e7-f151-21acee63c012"
      },
      "outputs": [
        {
          "name": "stdout",
          "output_type": "stream",
          "text": [
            "COEFFICIENT: [10.15628688]\n",
            "INTERCEPT: 0.4935596992278448\n"
          ]
        }
      ],
      "source": [
        "coef=model.coef_\n",
        "intercept=model.intercept_\n",
        "print(\"COEFFICIENT:\",coef)\n",
        "print(\"INTERCEPT:\",intercept)"
      ]
    },
    {
      "attachments": {},
      "cell_type": "markdown",
      "metadata": {
        "id": "zrGYV2J9tYzH"
      },
      "source": [
        "### PLOT THE RESULT\n",
        "\n",
        "After fitting the model with dataset , Linear Regression line can be created using Y=MX+C.<br>\n",
        "Plotting the line along with given actual data points...<br>\n",
        "THE DOTS REPRESENT THE ACTUAL DATA POINTS, WHEREAS THE CORRESPONDING Y INTERCEPT OF A GIVEN X REPRESENT THE PREDICTED VALUE."
      ]
    },
    {
      "cell_type": "code",
      "execution_count": 7,
      "metadata": {
        "colab": {
          "base_uri": "https://localhost:8080/",
          "height": 295
        },
        "id": "1y7cmMHqoRe3",
        "outputId": "b03b13ac-8ed3-4fcc-df59-72d6d57b289a"
      },
      "outputs": [
        {
          "data": {
            "image/png": "[encoded data removed]",
            "text/plain": [
              "<Figure size 640x480 with 1 Axes>"
            ]
          },
          "metadata": {},
          "output_type": "display_data"
        }
      ],
      "source": [
        "line = model.coef_*x+model.intercept_\n",
        "plt.scatter(x,y)\n",
        "plt.plot(x, line)\n",
        "plt.title(\"RESULT\")\n",
        "plt.xlabel(\"HOURS\")\n",
        "plt.ylabel(\"PERCENTAGE SCORES\")\n",
        "plt.show()"
      ]
    },
    {
      "attachments": {},
      "cell_type": "markdown",
      "metadata": {
        "id": "oDndeOlruojI"
      },
      "source": [
        "PRINTING THE PREDICTIONS MADE ON THE TEST DATASET ALONG WITH THE ORIGINAL VALUES GIVEN FOR THEM"
      ]
    },
    {
      "cell_type": "code",
      "execution_count": 8,
      "metadata": {
        "colab": {
          "base_uri": "https://localhost:8080/"
        },
        "id": "MPW591lkiq2L",
        "outputId": "51e88894-5b3c-4a19-edac-09c7bfa861b9"
      },
      "outputs": [
        {
          "name": "stdout",
          "output_type": "stream",
          "text": [
            "PREDICTED VALUES: [15.72799002 86.82199818 34.0093064  62.44690967 27.91553428]\n",
            "GIVEN VALUES: [20 75 42 67 25]\n"
          ]
        }
      ],
      "source": [
        "y_pred=model.predict(x_test)\n",
        "print(\"PREDICTED VALUES:\",y_pred)\n",
        "print(\"GIVEN VALUES:\",y_test)"
      ]
    },
    {
      "attachments": {},
      "cell_type": "markdown",
      "metadata": {
        "id": "U0Em1VIAvEay"
      },
      "source": [
        "### PREDICTING FOR THE GIVEN VALUE\n",
        "\n",
        "AS ASKED IN THE TASK, I HAVE PREDICTED THE SCORES FOR THE VALUE OF 9.25 HOURS :"
      ]
    },
    {
      "cell_type": "code",
      "execution_count": 9,
      "metadata": {
        "colab": {
          "base_uri": "https://localhost:8080/"
        },
        "id": "8Ms6hlZEi4kb",
        "outputId": "ec5554f7-9550-4f7d-fa3e-2be2f34a9151"
      },
      "outputs": [
        {
          "name": "stdout",
          "output_type": "stream",
          "text": [
            "(1, 1)\n",
            "ANSWER: [94.43921334]\n"
          ]
        }
      ],
      "source": [
        "test_val=9.25\n",
        "test=np.array([test_val]).reshape((-1,1))\n",
        "print(test.shape)\n",
        "print(\"ANSWER:\",model.predict(test))"
      ]
    },
    {
      "attachments": {},
      "cell_type": "markdown",
      "metadata": {
        "id": "ASvTW9nZvn2E"
      },
      "source": [
        "**MEAN ABSOLUTE ERROR**\n",
        "\n",
        "( FOR THE ENTIRE DATA )"
      ]
    },
    {
      "cell_type": "code",
      "execution_count": 10,
      "metadata": {
        "colab": {
          "base_uri": "https://localhost:8080/"
        },
        "id": "jq0C3z6djjy6",
        "outputId": "a51330a3-3ed9-4885-b702-74594611a438"
      },
      "outputs": [
        {
          "name": "stdout",
          "output_type": "stream",
          "text": [
            "MEAN ABSOLUTE ERROR: 5.0913861820143635\n"
          ]
        }
      ],
      "source": [
        "pred=model.predict(x)\n",
        "print(\"MEAN ABSOLUTE ERROR:\",metrics.mean_absolute_error(y,pred))"
      ]
    },
    {
      "attachments": {},
      "cell_type": "markdown",
      "metadata": {},
      "source": [
        "**R2 SCORE**\n",
        "\n",
        "( FOR THE ENTIRE DATA )"
      ]
    },
    {
      "cell_type": "code",
      "execution_count": 28,
      "metadata": {
        "id": "MIfCJZ1IkpZy"
      },
      "outputs": [
        {
          "data": {
            "text/plain": [
              "0.9514933750993224"
            ]
          },
          "execution_count": 28,
          "metadata": {},
          "output_type": "execute_result"
        }
      ],
      "source": [
        "metrics.r2_score(y,pred)"
      ]
    }
  ],
  "metadata": {
    "accelerator": "GPU",
    "colab": {
      "authorship_tag": "ABX9TyPWzIr4zXkIOeMzioiLUh/y",
      "collapsed_sections": [],
      "include_colab_link": true,
      "name": "SPARKS_INTERNSHIP_TASK1.ipynb",
      "provenance": []
    },
    "kernelspec": {
      "display_name": "base",
      "language": "python",
      "name": "python3"
    },
    "language_info": {
      "codemirror_mode": {
        "name": "ipython",
        "version": 3
      },
      "file_extension": ".py",
      "mimetype": "text/x-python",
      "name": "python",
      "nbconvert_exporter": "python",
      "pygments_lexer": "ipython3",
      "version": "3.9.13"
    },
    "vscode": {
      "interpreter": {
        "hash": "c370489388e782aa9b6373b0856d4a71cb56f2a887cc53048a8e75b66b592545"
      }
    }
  },
  "nbformat": 4,
  "nbformat_minor": 0
}
